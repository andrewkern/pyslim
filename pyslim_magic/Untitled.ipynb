{
 "cells": [
  {
   "cell_type": "code",
   "execution_count": 1,
   "id": "bd56869a-2c91-4d87-910c-be8446e4dc28",
   "metadata": {},
   "outputs": [],
   "source": [
    "%load_ext pyslim_magic"
   ]
  },
  {
   "cell_type": "code",
   "execution_count": 5,
   "id": "164817fe-fb2d-47ca-bac0-ebf13a247a73",
   "metadata": {},
   "outputs": [
    {
     "name": "stderr",
     "output_type": "stream",
     "text": [
      "#WARNING (Genome_Class::ExecuteMethod_addNewMutation): addNewMutation should probably not be called from an early() event in a WF model; the added mutation will not influence fitness values during offspring generation.\n"
     ]
    },
    {
     "data": {
      "text/html": [
       "<div>\n",
       "<style scoped>\n",
       "    .dataframe tbody tr th:only-of-type {\n",
       "        vertical-align: middle;\n",
       "    }\n",
       "\n",
       "    .dataframe tbody tr th {\n",
       "        vertical-align: top;\n",
       "    }\n",
       "\n",
       "    .dataframe thead th {\n",
       "        text-align: right;\n",
       "    }\n",
       "</style>\n",
       "<table border=\"1\" class=\"dataframe\">\n",
       "  <thead>\n",
       "    <tr style=\"text-align: right;\">\n",
       "      <th></th>\n",
       "      <th>generation</th>\n",
       "      <th>H</th>\n",
       "    </tr>\n",
       "  </thead>\n",
       "  <tbody>\n",
       "    <tr>\n",
       "      <th>0</th>\n",
       "      <td>1</td>\n",
       "      <td>0.49995</td>\n",
       "    </tr>\n",
       "    <tr>\n",
       "      <th>1</th>\n",
       "      <td>2</td>\n",
       "      <td>0.48000</td>\n",
       "    </tr>\n",
       "    <tr>\n",
       "      <th>2</th>\n",
       "      <td>3</td>\n",
       "      <td>0.46620</td>\n",
       "    </tr>\n",
       "    <tr>\n",
       "      <th>3</th>\n",
       "      <td>4</td>\n",
       "      <td>0.45795</td>\n",
       "    </tr>\n",
       "    <tr>\n",
       "      <th>4</th>\n",
       "      <td>5</td>\n",
       "      <td>0.45195</td>\n",
       "    </tr>\n",
       "    <tr>\n",
       "      <th>...</th>\n",
       "      <td>...</td>\n",
       "      <td>...</td>\n",
       "    </tr>\n",
       "    <tr>\n",
       "      <th>295</th>\n",
       "      <td>296</td>\n",
       "      <td>0.33180</td>\n",
       "    </tr>\n",
       "    <tr>\n",
       "      <th>296</th>\n",
       "      <td>297</td>\n",
       "      <td>0.37500</td>\n",
       "    </tr>\n",
       "    <tr>\n",
       "      <th>297</th>\n",
       "      <td>298</td>\n",
       "      <td>0.36480</td>\n",
       "    </tr>\n",
       "    <tr>\n",
       "      <th>298</th>\n",
       "      <td>299</td>\n",
       "      <td>0.38955</td>\n",
       "    </tr>\n",
       "    <tr>\n",
       "      <th>299</th>\n",
       "      <td>300</td>\n",
       "      <td>0.43155</td>\n",
       "    </tr>\n",
       "  </tbody>\n",
       "</table>\n",
       "<p>300 rows × 2 columns</p>\n",
       "</div>"
      ],
      "text/plain": [
       "     generation        H\n",
       "0             1  0.49995\n",
       "1             2  0.48000\n",
       "2             3  0.46620\n",
       "3             4  0.45795\n",
       "4             5  0.45195\n",
       "..          ...      ...\n",
       "295         296  0.33180\n",
       "296         297  0.37500\n",
       "297         298  0.36480\n",
       "298         299  0.38955\n",
       "299         300  0.43155\n",
       "\n",
       "[300 rows x 2 columns]"
      ]
     },
     "execution_count": 5,
     "metadata": {},
     "output_type": "execute_result"
    }
   ],
   "source": [
    "%%slim_stats ll\n",
    "// set up a simple neutral simulation\n",
    "initialize()\n",
    "{\n",
    "    // set the overall mutation rate\n",
    "    initializeMutationRate(0);\n",
    "    // m1 mutation type: neutral\n",
    "    initializeMutationType(\"m1\", 0.5, \"f\", 0.0);\n",
    "    // g1 genomic element type: uses m1 or m2 with equal prob for mutations\n",
    "    initializeGenomicElementType(\"g1\", c(m1), c(1.0));\n",
    "    // uniform chromosome of length 100 kb\n",
    "    initializeGenomicElement(g1, 0, 0);\n",
    "    // uniform recombination along the chromosome\n",
    "    initializeRecombinationRate(1e-8);\n",
    "}\n",
    "\n",
    "// create a population of 100 individuals\n",
    "1 {\n",
    "    sim.addSubpop(\"p1\", 100);\n",
    "    target = sample(p1.genomes, 100);\n",
    "    target.addNewMutation(m1,0, 0);\n",
    "    log = sim.createLogFile(\"/dev/stdout\", logInterval=1);\n",
    "    log.addGeneration();\n",
    "    log.addCustomColumn(\"H\", \"calcHeterozygosity(p1.genomes);\"); \n",
    "}\n",
    "\n",
    "// run to generation 0\n",
    "300 late() {\n",
    "    sim.simulationFinished();\n",
    "    }\n"
   ]
  },
  {
   "cell_type": "code",
   "execution_count": 6,
   "id": "25efff3d-14ce-4a9f-9cc2-e75283fdbbf8",
   "metadata": {},
   "outputs": [],
   "source": [
    "x = _\n"
   ]
  },
  {
   "cell_type": "code",
   "execution_count": 7,
   "id": "60197616-84e4-4765-a10f-cc96d18bb798",
   "metadata": {},
   "outputs": [
    {
     "data": {
      "text/plain": [
       "<AxesSubplot:xlabel='generation', ylabel='heterozygosity'>"
      ]
     },
     "execution_count": 7,
     "metadata": {},
     "output_type": "execute_result"
    },
    {
     "data": {
      "image/png": "[encoded data removed]",
      "text/plain": [
       "<Figure size 432x288 with 1 Axes>"
      ]
     },
     "metadata": {
      "needs_background": "light"
     },
     "output_type": "display_data"
    }
   ],
   "source": [
    "x.H.plot(xlabel=\"generation\", ylabel=\"heterozygosity\", ylim=(0,1))"
   ]
  },
  {
   "cell_type": "code",
   "execution_count": null,
   "id": "659d5066-dc67-4831-9dd7-3274ba2b40fd",
   "metadata": {},
   "outputs": [],
   "source": []
  }
 ],
 "metadata": {
  "kernelspec": {
   "display_name": "Python 3 (ipykernel)",
   "language": "python",
   "name": "python3"
  },
  "language_info": {
   "codemirror_mode": {
    "name": "ipython",
    "version": 3
   },
   "file_extension": ".py",
   "mimetype": "text/x-python",
   "name": "python",
   "nbconvert_exporter": "python",
   "pygments_lexer": "ipython3",
   "version": "3.9.7"
  }
 },
 "nbformat": 4,
 "nbformat_minor": 5
}
